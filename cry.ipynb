{
  "nbformat": 4,
  "nbformat_minor": 0,
  "metadata": {
    "colab": {
      "provenance": [],
      "gpuType": "V28",
      "authorship_tag": "ABX9TyMjMzPs96GvedpQPBIfn3He",
      "include_colab_link": true
    },
    "kernelspec": {
      "name": "python3",
      "display_name": "Python 3"
    },
    "language_info": {
      "name": "python"
    },
    "accelerator": "TPU"
  },
  "cells": [
    {
      "cell_type": "markdown",
      "metadata": {
        "id": "view-in-github",
        "colab_type": "text"
      },
      "source": [
        "<a href=\"https://colab.research.google.com/github/RohitSh26/pytorch-learn/blob/master/cry.ipynb\" target=\"_parent\"><img src=\"https://colab.research.google.com/assets/colab-badge.svg\" alt=\"Open In Colab\"/></a>"
      ]
    },
    {
      "cell_type": "code",
      "source": [
        "!git clone https://github.com/gveres/donateacry-corpus.git"
      ],
      "metadata": {
        "colab": {
          "base_uri": "https://localhost:8080/"
        },
        "id": "-_K-67ZM0Uc6",
        "outputId": "16eda9ce-187f-4643-9e2c-a8bfd60b86d6"
      },
      "execution_count": 2,
      "outputs": [
        {
          "output_type": "stream",
          "name": "stdout",
          "text": [
            "Cloning into 'donateacry-corpus'...\n",
            "remote: Enumerating objects: 1616, done.\u001b[K\n",
            "remote: Total 1616 (delta 0), reused 0 (delta 0), pack-reused 1616 (from 1)\u001b[K\n",
            "Receiving objects: 100% (1616/1616), 67.06 MiB | 46.46 MiB/s, done.\n",
            "Resolving deltas: 100% (43/43), done.\n"
          ]
        }
      ]
    },
    {
      "cell_type": "code",
      "source": [
        "!pip install coremltools\n",
        "import coremltools as ct"
      ],
      "metadata": {
        "colab": {
          "base_uri": "https://localhost:8080/"
        },
        "id": "yW0bzoLO4IPk",
        "outputId": "1a88d6d2-60c6-47b7-e828-e38a6fd75ca0"
      },
      "execution_count": 13,
      "outputs": [
        {
          "output_type": "stream",
          "name": "stdout",
          "text": [
            "Collecting coremltools\n",
            "  Downloading coremltools-8.1-cp310-none-manylinux1_x86_64.whl.metadata (2.5 kB)\n",
            "Requirement already satisfied: numpy>=1.14.5 in /usr/local/lib/python3.10/dist-packages (from coremltools) (1.26.4)\n",
            "Requirement already satisfied: protobuf>=3.1.0 in /usr/local/lib/python3.10/dist-packages (from coremltools) (4.25.5)\n",
            "Requirement already satisfied: sympy in /usr/local/lib/python3.10/dist-packages (from coremltools) (1.13.1)\n",
            "Requirement already satisfied: tqdm in /usr/local/lib/python3.10/dist-packages (from coremltools) (4.67.1)\n",
            "Requirement already satisfied: packaging in /usr/local/lib/python3.10/dist-packages (from coremltools) (24.2)\n",
            "Requirement already satisfied: attrs>=21.3.0 in /usr/local/lib/python3.10/dist-packages (from coremltools) (24.3.0)\n",
            "Collecting cattrs (from coremltools)\n",
            "  Downloading cattrs-24.1.2-py3-none-any.whl.metadata (8.4 kB)\n",
            "Collecting pyaml (from coremltools)\n",
            "  Downloading pyaml-24.12.1-py3-none-any.whl.metadata (12 kB)\n",
            "Requirement already satisfied: exceptiongroup>=1.1.1 in /usr/local/lib/python3.10/dist-packages (from cattrs->coremltools) (1.2.2)\n",
            "Requirement already satisfied: typing-extensions!=4.6.3,>=4.1.0 in /usr/local/lib/python3.10/dist-packages (from cattrs->coremltools) (4.12.2)\n",
            "Requirement already satisfied: PyYAML in /usr/local/lib/python3.10/dist-packages (from pyaml->coremltools) (6.0.2)\n",
            "Requirement already satisfied: mpmath<1.4,>=1.1.0 in /usr/local/lib/python3.10/dist-packages (from sympy->coremltools) (1.3.0)\n",
            "Downloading coremltools-8.1-cp310-none-manylinux1_x86_64.whl (2.2 MB)\n",
            "\u001b[2K   \u001b[90m━━━━━━━━━━━━━━━━━━━━━━━━━━━━━━━━━━━━━━━━\u001b[0m \u001b[32m2.2/2.2 MB\u001b[0m \u001b[31m24.3 MB/s\u001b[0m eta \u001b[36m0:00:00\u001b[0m\n",
            "\u001b[?25hDownloading cattrs-24.1.2-py3-none-any.whl (66 kB)\n",
            "\u001b[2K   \u001b[90m━━━━━━━━━━━━━━━━━━━━━━━━━━━━━━━━━━━━━━━━\u001b[0m \u001b[32m66.4/66.4 kB\u001b[0m \u001b[31m3.4 MB/s\u001b[0m eta \u001b[36m0:00:00\u001b[0m\n",
            "\u001b[?25hDownloading pyaml-24.12.1-py3-none-any.whl (25 kB)\n",
            "Installing collected packages: pyaml, cattrs, coremltools\n",
            "Successfully installed cattrs-24.1.2 coremltools-8.1 pyaml-24.12.1\n"
          ]
        },
        {
          "output_type": "stream",
          "name": "stderr",
          "text": [
            "WARNING:coremltools:scikit-learn version 1.6.0 is not supported. Minimum required version: 0.17. Maximum required version: 1.5.1. Disabling scikit-learn conversion API.\n",
            "WARNING:coremltools:TensorFlow version 2.15.0 has not been tested with coremltools. You may run into unexpected errors. TensorFlow 2.12.0 is the most recent version that has been tested.\n",
            "WARNING:coremltools:Torch version 2.5.1+cpu has not been tested with coremltools. You may run into unexpected errors. Torch 2.4.0 is the most recent version that has been tested.\n",
            "WARNING:coremltools:Failed to load _MLModelProxy: No module named 'coremltools.libcoremlpython'\n",
            "WARNING:coremltools:Failed to load _MLModelAssetProxy: No module named 'coremltools.libcoremlpython'\n",
            "WARNING:coremltools:Failed to load _MLModelProxy: No module named 'coremltools.libcoremlpython'\n",
            "WARNING:coremltools:Failed to load _MLCPUComputeDeviceProxy: No module named 'coremltools.libcoremlpython'\n",
            "WARNING:coremltools:Failed to load _MLGPUComputeDeviceProxy: No module named 'coremltools.libcoremlpython'\n",
            "WARNING:coremltools:Failed to load _MLNeuralEngineComputeDeviceProxy: No module named 'coremltools.libcoremlpython'\n",
            "WARNING:coremltools:Failed to load _MLModelProxy: No module named 'coremltools.libcoremlpython'\n",
            "WARNING:coremltools:Failed to load _MLComputePlanProxy: No module named 'coremltools.libcoremlpython'\n"
          ]
        }
      ]
    },
    {
      "cell_type": "code",
      "source": [
        "import torch\n",
        "import torch.nn as nn\n",
        "import torch.optim as optim\n",
        "from sklearn.preprocessing import StandardScaler, LabelEncoder\n",
        "from sklearn.model_selection import train_test_split\n",
        "from torch.utils.data import Dataset, DataLoader\n",
        "import numpy as np\n",
        "import librosa\n",
        "import os\n",
        "import joblib\n",
        "# import streamlit as st\n",
        "# import sounddevice as sd\n",
        "from scipy.io.wavfile import write"
      ],
      "metadata": {
        "id": "0wsQyjt97163"
      },
      "execution_count": 38,
      "outputs": []
    },
    {
      "cell_type": "code",
      "source": [
        "class InfantCryTraining:\n",
        "    \"\"\"Class responsible for training the model in Google Colab.\"\"\"\n",
        "\n",
        "    def __init__(self, sample_rate=16000):\n",
        "        self.sample_rate = sample_rate\n",
        "        self.scaler = StandardScaler()\n",
        "        self.label_encoder = LabelEncoder()\n",
        "        self.model = None\n",
        "\n",
        "    class CryDataset(Dataset):\n",
        "        def __init__(self, features, labels):\n",
        "            self.features = torch.tensor(features, dtype=torch.float32)\n",
        "            self.labels = torch.tensor(labels, dtype=torch.long)\n",
        "\n",
        "        def __len__(self):\n",
        "            return len(self.labels)\n",
        "\n",
        "        def __getitem__(self, idx):\n",
        "            return self.features[idx], self.labels[idx]\n",
        "\n",
        "    def extract_features(self, file_path):\n",
        "        \"\"\"Extract features from audio files.\"\"\"\n",
        "        try:\n",
        "            audio, sr = librosa.load(file_path, sr=self.sample_rate)\n",
        "            mfccs = librosa.feature.mfcc(y=audio, sr=sr, n_mfcc=40)\n",
        "            mel_spec = librosa.feature.melspectrogram(y=audio, sr=sr)\n",
        "            chroma = librosa.feature.chroma_stft(y=audio, sr=sr)\n",
        "            features = np.concatenate([\n",
        "                np.mean(mfccs.T, axis=0),\n",
        "                np.mean(mel_spec.T, axis=0),\n",
        "                np.mean(chroma.T, axis=0)\n",
        "            ])\n",
        "            return features\n",
        "        except Exception as e:\n",
        "            print(f\"Error processing file {file_path}: {e}\")\n",
        "            return None\n",
        "\n",
        "    def load_data(self, data_path):\n",
        "        \"\"\"Load audio data and labels from the dataset path.\"\"\"\n",
        "        features = []\n",
        "        labels = []\n",
        "        for category in os.listdir(data_path):\n",
        "            category_path = os.path.join(data_path, category)\n",
        "            if os.path.isdir(category_path):\n",
        "                for file in os.listdir(category_path):\n",
        "                    file_path = os.path.join(category_path, file)\n",
        "                    if os.path.isfile(file_path):\n",
        "                        feature = self.extract_features(file_path)\n",
        "                        if feature is not None:\n",
        "                            features.append(feature)\n",
        "                            labels.append(category)\n",
        "\n",
        "        # Check if features and labels are not empty\n",
        "        if not features or not labels:\n",
        "            raise ValueError(\"No valid data found. Please check the dataset path and file format.\")\n",
        "\n",
        "        features = np.array(features)\n",
        "        labels = self.label_encoder.fit_transform(labels)\n",
        "        self.scaler.fit(features)\n",
        "        features = self.scaler.transform(features)\n",
        "\n",
        "        return features, labels\n",
        "\n",
        "    def build_model(self, input_size, num_classes):\n",
        "        class CryModel(nn.Module):\n",
        "            def __init__(self, input_size, num_classes):\n",
        "                super(CryModel, self).__init__()\n",
        "                self.fc1 = nn.Linear(input_size, 256)\n",
        "                self.dropout1 = nn.Dropout(0.3)\n",
        "                self.fc2 = nn.Linear(256, 128)\n",
        "                self.dropout2 = nn.Dropout(0.3)\n",
        "                self.fc3 = nn.Linear(128, num_classes)\n",
        "\n",
        "            def forward(self, x):\n",
        "                x = torch.relu(self.fc1(x))\n",
        "                x = self.dropout1(x)\n",
        "                x = torch.relu(self.fc2(x))\n",
        "                x = self.dropout2(x)\n",
        "                x = self.fc3(x)\n",
        "                return x\n",
        "\n",
        "        self.model = CryModel(input_size, num_classes)\n",
        "\n",
        "    def train(self, features, labels, input_size, num_classes, epochs=30, batch_size=32):\n",
        "        X_train, X_val, y_train, y_val = train_test_split(features, labels, test_size=0.2, random_state=42)\n",
        "        train_dataset = self.CryDataset(X_train, y_train)\n",
        "        val_dataset = self.CryDataset(X_val, y_val)\n",
        "        train_loader = DataLoader(train_dataset, batch_size=batch_size, shuffle=True)\n",
        "        val_loader = DataLoader(val_dataset, batch_size=batch_size)\n",
        "\n",
        "        self.build_model(input_size, num_classes)\n",
        "        criterion = nn.CrossEntropyLoss()\n",
        "        optimizer = optim.Adam(self.model.parameters(), lr=0.001)\n",
        "\n",
        "        for epoch in range(epochs):\n",
        "            self.model.train()\n",
        "            train_loss = 0\n",
        "            for features, labels in train_loader:\n",
        "                optimizer.zero_grad()\n",
        "                outputs = self.model(features)\n",
        "                loss = criterion(outputs, labels)\n",
        "                loss.backward()\n",
        "                optimizer.step()\n",
        "                train_loss += loss.item()\n",
        "\n",
        "            self.model.eval()\n",
        "            val_loss = 0\n",
        "            correct = 0\n",
        "            total = 0\n",
        "            with torch.no_grad():\n",
        "                for features, labels in val_loader:\n",
        "                    outputs = self.model(features)\n",
        "                    loss = criterion(outputs, labels)\n",
        "                    val_loss += loss.item()\n",
        "                    _, predicted = torch.max(outputs, 1)\n",
        "                    total += labels.size(0)\n",
        "                    correct += (predicted == labels).sum().item()\n",
        "\n",
        "            print(f\"Epoch {epoch+1}/{epochs}, Train Loss: {train_loss/len(train_loader):.4f}, Val Loss: {val_loss/len(val_loader):.4f}, Val Accuracy: {correct/total:.4f}\")\n",
        "\n",
        "    def save_model(self, model_path):\n",
        "        torch.save(self.model.state_dict(), model_path)\n",
        "        print(f\"Model saved to {model_path}\")\n",
        "\n",
        "        # Save the scaler\n",
        "        joblib.dump(self.scaler, \"scaler.pkl\")\n",
        "        print(\"Scaler saved to scaler.pkl\")\n",
        "\n",
        "if __name__ == \"__main__\":\n",
        "    # Training block for Google Colab\n",
        "    data_path = \"./donateacry-corpus/donateacry_corpus_cleaned_and_updated_data/\"  # Update with the correct path\n",
        "\n",
        "    trainer = InfantCryTraining()\n",
        "    features, labels = trainer.load_data(data_path)\n",
        "\n",
        "    input_size = features.shape[1]  # Number of features\n",
        "    num_classes = len(set(labels))  # Number of unique labels\n",
        "\n",
        "    trainer.train(features, labels, input_size, num_classes, epochs=30, batch_size=32)\n",
        "    trainer.save_model(\"infant_cry_model.pth\")\n"
      ],
      "metadata": {
        "colab": {
          "base_uri": "https://localhost:8080/"
        },
        "id": "f1Rjwgbq71pO",
        "outputId": "f4831f94-68e6-4bc0-e389-d39ff3e82e42"
      },
      "execution_count": 39,
      "outputs": [
        {
          "output_type": "stream",
          "name": "stdout",
          "text": [
            "Epoch 1/30, Train Loss: 1.1350, Val Loss: 0.8313, Val Accuracy: 0.8043\n",
            "Epoch 2/30, Train Loss: 0.6590, Val Loss: 0.9070, Val Accuracy: 0.8043\n",
            "Epoch 3/30, Train Loss: 0.6173, Val Loss: 0.8705, Val Accuracy: 0.8043\n",
            "Epoch 4/30, Train Loss: 0.5471, Val Loss: 0.8485, Val Accuracy: 0.8043\n",
            "Epoch 5/30, Train Loss: 0.5231, Val Loss: 0.8647, Val Accuracy: 0.8043\n",
            "Epoch 6/30, Train Loss: 0.4806, Val Loss: 0.8840, Val Accuracy: 0.8043\n",
            "Epoch 7/30, Train Loss: 0.4652, Val Loss: 0.9443, Val Accuracy: 0.8043\n",
            "Epoch 8/30, Train Loss: 0.4065, Val Loss: 0.9735, Val Accuracy: 0.8043\n",
            "Epoch 9/30, Train Loss: 0.3692, Val Loss: 0.9943, Val Accuracy: 0.8043\n",
            "Epoch 10/30, Train Loss: 0.3523, Val Loss: 1.0518, Val Accuracy: 0.7935\n",
            "Epoch 11/30, Train Loss: 0.3066, Val Loss: 1.1286, Val Accuracy: 0.8043\n",
            "Epoch 12/30, Train Loss: 0.2845, Val Loss: 1.1901, Val Accuracy: 0.7935\n",
            "Epoch 13/30, Train Loss: 0.2791, Val Loss: 1.2402, Val Accuracy: 0.7935\n",
            "Epoch 14/30, Train Loss: 0.2507, Val Loss: 1.2503, Val Accuracy: 0.7935\n",
            "Epoch 15/30, Train Loss: 0.2389, Val Loss: 1.3232, Val Accuracy: 0.7935\n",
            "Epoch 16/30, Train Loss: 0.2066, Val Loss: 1.2716, Val Accuracy: 0.7935\n",
            "Epoch 17/30, Train Loss: 0.1933, Val Loss: 1.4324, Val Accuracy: 0.7826\n",
            "Epoch 18/30, Train Loss: 0.1582, Val Loss: 1.5435, Val Accuracy: 0.7826\n",
            "Epoch 19/30, Train Loss: 0.1534, Val Loss: 1.7161, Val Accuracy: 0.7935\n",
            "Epoch 20/30, Train Loss: 0.1295, Val Loss: 1.8472, Val Accuracy: 0.7717\n",
            "Epoch 21/30, Train Loss: 0.1346, Val Loss: 1.7805, Val Accuracy: 0.7935\n",
            "Epoch 22/30, Train Loss: 0.1044, Val Loss: 1.8219, Val Accuracy: 0.7826\n",
            "Epoch 23/30, Train Loss: 0.0941, Val Loss: 1.9018, Val Accuracy: 0.7609\n",
            "Epoch 24/30, Train Loss: 0.0839, Val Loss: 2.1119, Val Accuracy: 0.7826\n",
            "Epoch 25/30, Train Loss: 0.0856, Val Loss: 2.2530, Val Accuracy: 0.7609\n",
            "Epoch 26/30, Train Loss: 0.0807, Val Loss: 2.3244, Val Accuracy: 0.7826\n",
            "Epoch 27/30, Train Loss: 0.0817, Val Loss: 1.9161, Val Accuracy: 0.7826\n",
            "Epoch 28/30, Train Loss: 0.0766, Val Loss: 2.0766, Val Accuracy: 0.7500\n",
            "Epoch 29/30, Train Loss: 0.0637, Val Loss: 2.3637, Val Accuracy: 0.7391\n",
            "Epoch 30/30, Train Loss: 0.0551, Val Loss: 2.2946, Val Accuracy: 0.7826\n",
            "Model saved to infant_cry_model.pth\n",
            "Scaler saved to scaler.pkl\n"
          ]
        }
      ]
    },
    {
      "cell_type": "code",
      "source": [
        "class InfantCryModelLoader:\n",
        "    \"\"\"Class responsible for loading the trained model locally.\"\"\"\n",
        "\n",
        "    def __init__(self):\n",
        "        self.model = None\n",
        "        self.scaler = None\n",
        "        self.label_encoder = None\n",
        "\n",
        "    def build_model(self, input_size, num_classes):\n",
        "        class CryModel(nn.Module):\n",
        "            def __init__(self, input_size, num_classes):\n",
        "                super(CryModel, self).__init__()\n",
        "                self.fc1 = nn.Linear(input_size, 256)\n",
        "                self.dropout1 = nn.Dropout(0.3)\n",
        "                self.fc2 = nn.Linear(256, 128)\n",
        "                self.dropout2 = nn.Dropout(0.3)\n",
        "                self.fc3 = nn.Linear(128, num_classes)\n",
        "\n",
        "            def forward(self, x):\n",
        "                x = torch.relu(self.fc1(x))\n",
        "                x = self.dropout1(x)\n",
        "                x = torch.relu(self.fc2(x))\n",
        "                x = self.dropout2(x)\n",
        "                x = self.fc3(x)\n",
        "                return x\n",
        "\n",
        "        self.model = CryModel(input_size, num_classes)\n",
        "\n",
        "    def load_model(self, model_path, input_size, num_classes, scaler_path, label_encoder):\n",
        "        self.build_model(input_size, num_classes)\n",
        "        self.model.load_state_dict(torch.load(model_path))\n",
        "        self.model.eval()\n",
        "        self.scaler = joblib.load(scaler_path)  # Load the saved scaler\n",
        "        self.label_encoder = label_encoder\n",
        "        print(f\"Model and Scaler loaded from {model_path} and {scaler_path}\")\n"
      ],
      "metadata": {
        "id": "TNJfw-YD8Dqg"
      },
      "execution_count": 40,
      "outputs": []
    },
    {
      "cell_type": "code",
      "source": [
        "import coremltools as ct\n",
        "import torch\n",
        "\n",
        "# Initialize and load the PyTorch model\n",
        "model_loader = InfantCryModelLoader()\n",
        "model_loader.load_model(\n",
        "    model_path=\"infant_cry_model.pth\",\n",
        "    input_size=180,  # Changed to 180 to match the input size used during training\n",
        "    num_classes=5,\n",
        "    scaler_path=\"scaler.pkl\",  # Scaler isn't needed for CoreML conversion\n",
        "    label_encoder=None\n",
        ")\n",
        "model = model_loader.model\n",
        "\n",
        "# Convert the PyTorch model to CoreML\n",
        "example_input = torch.rand(1, 180)  # Example input tensor with the correct shape\n",
        "traced_model = torch.jit.trace(model, example_input)\n",
        "coreml_model = ct.convert(\n",
        "    traced_model,\n",
        "    inputs=[ct.TensorType(name=\"input\", shape=example_input.shape)],\n",
        "    convert_to=\"neuralnetwork\"  # Specify NeuralNetwork format for `.mlmodel`\n",
        ")\n",
        "\n",
        "\n",
        "# Save the CoreML model\n",
        "coreml_model.save(\"InfantCryClassifier.mlmodel\")"
      ],
      "metadata": {
        "colab": {
          "base_uri": "https://localhost:8080/"
        },
        "id": "LNYOYlFv4INV",
        "outputId": "8c61ccd3-e85b-4707-80bc-f875a5f6458c"
      },
      "execution_count": 43,
      "outputs": [
        {
          "output_type": "stream",
          "name": "stderr",
          "text": [
            "<ipython-input-40-f43ca0f6f3ae>:31: FutureWarning: You are using `torch.load` with `weights_only=False` (the current default value), which uses the default pickle module implicitly. It is possible to construct malicious pickle data which will execute arbitrary code during unpickling (See https://github.com/pytorch/pytorch/blob/main/SECURITY.md#untrusted-models for more details). In a future release, the default value for `weights_only` will be flipped to `True`. This limits the functions that could be executed during unpickling. Arbitrary objects will no longer be allowed to be loaded via this mode unless they are explicitly allowlisted by the user via `torch.serialization.add_safe_globals`. We recommend you start setting `weights_only=True` for any use case where you don't have full control of the loaded file. Please open an issue on GitHub for any issues related to this experimental feature.\n",
            "  self.model.load_state_dict(torch.load(model_path))\n"
          ]
        },
        {
          "output_type": "stream",
          "name": "stdout",
          "text": [
            "Model and Scaler loaded from infant_cry_model.pth and scaler.pkl\n"
          ]
        },
        {
          "output_type": "stream",
          "name": "stderr",
          "text": [
            "Converting PyTorch Frontend ==> MIL Ops:  91%|█████████ | 10/11 [00:00<00:00, 101.90 ops/s]\n",
            "Running MIL frontend_pytorch pipeline: 100%|██████████| 5/5 [00:00<00:00, 4057.17 passes/s]\n",
            "Running MIL default pipeline: 100%|██████████| 87/87 [00:00<00:00, 2756.43 passes/s]\n",
            "Running MIL backend_neuralnetwork pipeline: 100%|██████████| 9/9 [00:00<00:00, 4968.90 passes/s]\n",
            "Translating MIL ==> NeuralNetwork Ops: 100%|██████████| 11/11 [00:00<00:00, 579.92 ops/s]\n"
          ]
        }
      ]
    },
    {
      "cell_type": "markdown",
      "source": [],
      "metadata": {
        "id": "nScWAphB4POL"
      }
    },
    {
      "cell_type": "code",
      "source": [],
      "metadata": {
        "id": "dwB9bzvU4IK4"
      },
      "execution_count": null,
      "outputs": []
    },
    {
      "cell_type": "code",
      "source": [],
      "metadata": {
        "id": "SYmGEmSv4EPd"
      },
      "execution_count": null,
      "outputs": []
    }
  ]
}